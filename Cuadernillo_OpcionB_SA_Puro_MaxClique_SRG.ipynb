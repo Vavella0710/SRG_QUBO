{
 "cells": [
  {
   "cell_type": "markdown",
   "id": "83d8bfa4",
   "metadata": {},
   "source": [
    "# Cuadernillo — **Opción B**: Máximo Clique con SA puro-Python (sin dimod/neal)"
   ]
  },
  {
   "cell_type": "markdown",
   "id": "6099b8af",
   "metadata": {},
   "source": [
    "**Contenido:** setup, Paley(q) primo, QUBO libre y con tamaño fijado, SA puro-Python, tests en q=17,29."
   ]
  },
  {
   "cell_type": "code",
   "execution_count": null,
   "id": "f449786f",
   "metadata": {},
   "outputs": [],
   "source": [
    "\n",
    "# Setup minimal\n",
    "try:\n",
    "    import networkx as nx; print(\"NetworkX:\", nx.__version__)\n",
    "except Exception:\n",
    "    %pip -q install networkx\n",
    "    import networkx as nx; print(\"NetworkX:\", nx.__version__)\n"
   ]
  },
  {
   "cell_type": "code",
   "execution_count": null,
   "id": "c8e18984",
   "metadata": {},
   "outputs": [],
   "source": [
    "\n",
    "import networkx as nx\n",
    "def _is_probable_prime(n:int)->bool:\n",
    "    if n<2: return False\n",
    "    small=[2,3,5,7,11,13,17,19,23,29]\n",
    "    for p in small:\n",
    "        if n==p: return True\n",
    "        if n%p==0: return n==p\n",
    "    def mr_check(a,s,d,n):\n",
    "        x=pow(a,d,n)\n",
    "        if x in (1,n-1): return True\n",
    "        for _ in range(s-1):\n",
    "            x=(x*x)%n\n",
    "            if x==n-1: return True\n",
    "        return False\n",
    "    d,s=n-1,0\n",
    "    while d%2==0: d//=2; s+=1\n",
    "    for a in [2,325,9375,28178,450775,9780504,1795265022]:\n",
    "        if a % n == 0: continue\n",
    "        if not mr_check(a,s,d,n): return False\n",
    "    return True\n",
    "\n",
    "def paley_graph_prime(q:int)->nx.Graph:\n",
    "    if q%4!=1: raise ValueError(\"q ≡ 1 (mod 4)\")\n",
    "    if not _is_probable_prime(q): raise ValueError(\"Usa q primo (17,29,37,...)\")\n",
    "    G=nx.Graph(); G.add_nodes_from(range(q))\n",
    "    residues={(x*x)%q for x in range(1,q)}\n",
    "    for u in range(q):\n",
    "        for v in range(u+1,q):\n",
    "            if (v-u)%q in residues: G.add_edge(u,v)\n",
    "    return G\n",
    "G17=paley_graph_prime(17)\n",
    "print(\"Paley(17): n, k =\", G17.number_of_nodes(), next(iter(dict(G17.degree()).values())))\n"
   ]
  },
  {
   "cell_type": "code",
   "execution_count": null,
   "id": "eb308c68",
   "metadata": {},
   "outputs": [],
   "source": [
    "\n",
    "import networkx as nx\n",
    "def build_qubo_max_clique(G, M=1.0, beta=2.0):\n",
    "    n=G.number_of_nodes(); nodes=list(G.nodes()); idx={u:i for i,u in enumerate(nodes)}\n",
    "    h=[-M]*n\n",
    "    comp=nx.complement(G)\n",
    "    J=[[0.0]*n for _ in range(n)]\n",
    "    for u,v in comp.edges():\n",
    "        i,j=idx[u],idx[v]; J[i][j]+=beta; J[j][i]+=beta\n",
    "    return nodes,h,J\n",
    "\n",
    "def build_qubo_fixed_size(G, m, beta=2.0, eta=10.0):\n",
    "    nodes=list(G.nodes()); idx={u:i for i,u in enumerate(nodes)}; n=len(nodes)\n",
    "    comp=nx.complement(G)\n",
    "    h=[eta*(1-2*m)]*n\n",
    "    J=[[0.0]*n for _ in range(n)]\n",
    "    for i in range(n):\n",
    "        for j in range(i+1,n):\n",
    "            coeff=2.0*eta\n",
    "            if comp.has_edge(nodes[i],nodes[j]): coeff+=beta\n",
    "            J[i][j]=J[j][i]=coeff\n",
    "    return nodes,h,J\n"
   ]
  },
  {
   "cell_type": "code",
   "execution_count": null,
   "id": "90f21398",
   "metadata": {},
   "outputs": [],
   "source": [
    "\n",
    "import random, math\n",
    "def energy(x,h,J):\n",
    "    n=len(x); e=sum(h[i]*x[i] for i in range(n))\n",
    "    for i in range(n):\n",
    "        if x[i]:\n",
    "            Ji=J[i]\n",
    "            e+=sum(Ji[j] for j in range(i+1,n) if x[j] and Ji[j])\n",
    "    return e\n",
    "\n",
    "def delta_flip(i,x,h,J):\n",
    "    n=len(x); Ji=J[i]\n",
    "    if x[i]==0:\n",
    "        return h[i]+sum(Ji[j] for j in range(n) if j!=i and x[j] and Ji[j])\n",
    "    else:\n",
    "        return -h[i]-sum(Ji[j] for j in range(n) if j!=i and x[j] and Ji[j])\n",
    "\n",
    "def sa_qubo(h,J,steps=150000,T0=1.5,Tf=1e-3,seed=7):\n",
    "    random.seed(seed); n=len(h); x=[0]*n; e=energy(x,h,J); best_x=x[:]; best_e=e\n",
    "    for t in range(1,steps+1):\n",
    "        T=T0*(Tf/T0)**(t/steps); i=random.randrange(n); dE=delta_flip(i,x,h,J)\n",
    "        if dE<=0 or random.random()<math.exp(-dE/max(T,1e-12)):\n",
    "            x[i]^=1; e+=dE\n",
    "            if e<best_e: best_e, best_x=e, x[:]\n",
    "    return best_x, best_e\n",
    "\n",
    "def is_clique(G,S):\n",
    "    H=G.subgraph(S); t=len(S)\n",
    "    return H.number_of_edges()==t*(t-1)//2\n",
    "def clique_from_state(x,nodes):\n",
    "    return [nodes[i] for i,v in enumerate(x) if v==1]\n"
   ]
  },
  {
   "cell_type": "code",
   "execution_count": null,
   "id": "d13ee1e7",
   "metadata": {},
   "outputs": [],
   "source": [
    "\n",
    "# Máximo cliqué para Paley(17) y Paley(29)\n",
    "for q in (17,29):\n",
    "    G=paley_graph_prime(q)\n",
    "    nodes,h,J=build_qubo_max_clique(G, M=1.0, beta=2.0)\n",
    "    x,e=sa_qubo(h,J,steps=150000,T0=1.5,Tf=1e-3,seed=7)\n",
    "    S=clique_from_state(x,nodes)\n",
    "    print(f\"[SA] Paley({q}): |S|={len(S)}, es_clique={is_clique(G,S)}, S={sorted(S)}, E={e:.3f}\")\n"
   ]
  },
  {
   "cell_type": "code",
   "execution_count": null,
   "id": "2ba9c0f4",
   "metadata": {},
   "outputs": [],
   "source": [
    "\n",
    "# Certificación m=3 y m=4 en Paley(17)\n",
    "G=paley_graph_prime(17)\n",
    "for m in (3,4):\n",
    "    nodes,h,J=build_qubo_fixed_size(G, m=m, beta=2.0, eta=10.0)\n",
    "    x,e=sa_qubo(h,J,steps=180000,T0=2.0,Tf=1e-3,seed=11)\n",
    "    S=clique_from_state(x,nodes)\n",
    "    print(f\"[SA fixed-m] m={m} -> |S|={len(S)}, es_clique={is_clique(G,S)}, S={sorted(S)}, E={e:.3f}\")\n"
   ]
  }
 ],
 "metadata": {},
 "nbformat": 4,
 "nbformat_minor": 5
}
